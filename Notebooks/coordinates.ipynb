{
 "cells": [
  {
   "cell_type": "markdown",
   "metadata": {
    "pycharm": {
     "name": "#%% md\n"
    }
   },
   "source": [
    "This script gets a map representing the main effect in the MCSE study, extracts the peak coordinates from it\n",
    "and then fetches anatomical labels for these regions\n"
   ]
  },
  {
   "cell_type": "code",
   "execution_count": null,
   "metadata": {
    "pycharm": {
     "name": "#%%\n"
    }
   },
   "outputs": [],
   "source": [
    "# Let us load the image obtained from the previous group analysis.\n",
    "# we are interested in the low-high salience contrast only\n",
    "import os\n",
    "from nilearn.image import load_img\n",
    "write_dir = 'results'\n",
    "key = 'low-high salience'\n",
    "filename = os.path.join(write_dir, f'group_{key}_z_score.nii.gz')\n",
    "z_map = load_img(filename)"
   ]
  },
  {
   "cell_type": "code",
   "execution_count": null,
   "metadata": {},
   "outputs": [],
   "source": [
    "from nilearn.reporting import get_clusters_table\n",
    "# we need to threshold the maps. We keep\n",
    "threshold = 3.06\n",
    "\n",
    "table = get_clusters_table(\n",
    "    z_map, stat_threshold=threshold, cluster_threshold=20\n",
    ")\n",
    "table"
   ]
  },
  {
   "cell_type": "markdown",
   "metadata": {},
   "source": [
    "We see 37 main peaks organized in 14 clusters.\n",
    "Now let us try to make sense of these clusters by observing then in the Julich atlas space."
   ]
  },
  {
   "cell_type": "markdown",
   "metadata": {},
   "source": [
    "To fetch the Julich-Brain from EBRAINS we rely on the `siibra` library. So we first need to import it (or install and then import if not already installed)"
   ]
  },
  {
   "cell_type": "code",
   "execution_count": null,
   "metadata": {},
   "outputs": [],
   "source": [
    "try:\n",
    "    import siibra\n",
    "except:\n",
    "    !pip install siibra\n",
    "    import siibra\n",
    "print(siibra.__version__)\n",
    "assert siibra.__version__ >= \"0.4a33\""
   ]
  },
  {
   "cell_type": "markdown",
   "metadata": {},
   "source": [
    "Now we can fetch the Julich-Brain parcellation as a labelled map in MNI space "
   ]
  },
  {
   "cell_type": "code",
   "execution_count": null,
   "metadata": {},
   "outputs": [],
   "source": [
    "julich_brain = siibra.parcellations.JULICH_BRAIN_PROBABILISTIC_CYTOARCHITECTONIC_MAPS_V2_9\n",
    "print(julich_brain.description)\n",
    "\n",
    "# the original maximum probability map object with split hemispheres\n",
    "julich_mpm = julich_brain.get_map(\n",
    "    space=siibra.spaces.MNI_152_ICBM_2009C_NONLINEAR_ASYMMETRIC,\n",
    "    maptype=siibra.MapType.LABELLED\n",
    ")\n",
    "\n",
    "# single-volume compressed version\n",
    "julich_mpm_compressed = julich_mpm.compress()\n",
    "parcellation_map_niimg = julich_mpm_compressed.fetch()"
   ]
  },
  {
   "cell_type": "code",
   "execution_count": null,
   "metadata": {},
   "outputs": [],
   "source": [
    "from nilearn.image import resample_to_img\n",
    "\n",
    "parcellation_map_niimg = resample_to_img(parcellation_map_niimg, z_map, interpolation='nearest')"
   ]
  },
  {
   "cell_type": "markdown",
   "metadata": {},
   "source": [
    "You can access the regions defined in the Julich map with the `regions` attribute"
   ]
  },
  {
   "cell_type": "code",
   "execution_count": null,
   "metadata": {},
   "outputs": [],
   "source": [
    "julich_mpm_compressed.regions"
   ]
  },
  {
   "cell_type": "markdown",
   "metadata": {},
   "source": [
    "With Nilearn we can visualize the thresholded statistical map on the Julich parcellation map"
   ]
  },
  {
   "cell_type": "code",
   "execution_count": null,
   "metadata": {},
   "outputs": [],
   "source": [
    "from nilearn import plotting\n",
    "\n",
    "plotting.view_img(z_map, bg_img=parcellation_map_niimg, threshold=threshold)"
   ]
  },
  {
   "cell_type": "markdown",
   "metadata": {},
   "source": [
    "Get labels from atlas using peak coordinates from cluster table"
   ]
  },
  {
   "cell_type": "code",
   "execution_count": null,
   "metadata": {},
   "outputs": [],
   "source": [
    "import numpy as np \n",
    "\n",
    "labels = []\n",
    "for x, y, z in zip(table[\"X\"], table[\"Y\"], table[\"Z\"]):\n",
    "    coord = np.array([x, y, z]).astype(\"int\")\n",
    "    labels.append(parcellation_map_niimg.get_fdata()[coord])"
   ]
  },
  {
   "cell_type": "markdown",
   "metadata": {},
   "source": [
    "Map labels back to atlas"
   ]
  },
  {
   "cell_type": "code",
   "execution_count": null,
   "metadata": {},
   "outputs": [],
   "source": []
  }
 ],
 "metadata": {
  "kernelspec": {
   "display_name": "hands-on",
   "language": "python",
   "name": "ebrains-hands-on"
  },
  "language_info": {
   "codemirror_mode": {
    "name": "ipython",
    "version": 3
   },
   "file_extension": ".py",
   "mimetype": "text/x-python",
   "name": "python",
   "nbconvert_exporter": "python",
   "pygments_lexer": "ipython3",
   "version": "3.9.15"
  }
 },
 "nbformat": 4,
 "nbformat_minor": 2
}
