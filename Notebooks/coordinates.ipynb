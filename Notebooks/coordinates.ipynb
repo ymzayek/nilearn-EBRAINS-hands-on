{
 "cells": [
  {
   "cell_type": "markdown",
   "metadata": {
    "pycharm": {
     "name": "#%% md\n"
    }
   },
   "source": [
    "This script gets a map representing the main effect in the MCSE study, extracts the peak coordinates from it\n",
    "and then fetches anatomical labels for these regions\n"
   ]
  },
  {
   "cell_type": "code",
   "execution_count": null,
   "metadata": {
    "pycharm": {
     "name": "#%%\n"
    }
   },
   "outputs": [],
   "source": [
    "# Let us load the image obtained from the previous group analysis.\n",
    "# we are interested in the low-high salience contrast only\n",
    "import os\n",
    "from nilearn.image import load_img\n",
    "write_dir = 'results'\n",
    "key = 'low-high salience'\n",
    "filename = os.path.join(write_dir, f'group_{key}_z_score.nii.gz')\n",
    "z_map = load_img(filename)"
   ]
  },
  {
   "cell_type": "code",
   "execution_count": null,
   "metadata": {},
   "outputs": [],
   "source": [
    "from nilearn.reporting import get_clusters_table\n",
    "# we need to threshold the maps. We keep\n",
    "threshold = 3.06\n",
    "\n",
    "table = get_clusters_table(\n",
    "    z_map, stat_threshold=threshold, cluster_threshold=20\n",
    ")\n",
    "table"
   ]
  },
  {
   "cell_type": "markdown",
   "metadata": {},
   "source": [
    "We see 37 main peaks organized in 14 clusters.\n",
    "Now let us try to make sense of these clusters by observing then in the Julich atlas space."
   ]
  }
 ],
 "metadata": {
  "kernelspec": {
   "display_name": "Python 3 (ipykernel)",
   "language": "python",
   "name": "python3"
  },
  "language_info": {
   "codemirror_mode": {
    "name": "ipython",
    "version": 3
   },
   "file_extension": ".py",
   "mimetype": "text/x-python",
   "name": "python",
   "nbconvert_exporter": "python",
   "pygments_lexer": "ipython3",
   "version": "3.10.6"
  }
 },
 "nbformat": 4,
 "nbformat_minor": 2
}
