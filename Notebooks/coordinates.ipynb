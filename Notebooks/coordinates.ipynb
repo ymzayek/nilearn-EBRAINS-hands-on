{
 "cells": [
  {
   "cell_type": "markdown",
   "metadata": {},
   "source": [
    "This script gets a map representing the main effect in the MCSE study, extracts the peak coordinates from it\n",
    "and then fetches anatomical labels for these regions\n"
   ]
  },
  {
   "cell_type": "code",
   "execution_count": null,
   "metadata": {},
   "outputs": [],
   "source": [
    "# Let us load the image obtained from the previous group analysis.\n",
    "# we are interested in the low-high salience contrast only\n",
    "import os\n",
    "from nilearn.image import load_img\n",
    "write_dir = 'results'\n",
    "key = 'low-high salience'\n",
    "filename = os.path.join(write_dir, f'group_{key}_z_score.nii.gz')\n",
    "z_map = load_img(filename)"
   ]
  },
  {
   "cell_type": "code",
   "execution_count": null,
   "metadata": {},
   "outputs": [],
   "source": [
    "from nilearn.reporting import get_clusters_table\n",
    "# we need to threshold the maps. We keep\n",
    "threshold = 3.06\n",
    "\n",
    "table = get_clusters_table(\n",
    "    z_map, stat_threshold=threshold, cluster_threshold=20\n",
    ")\n",
    "table"
   ]
  },
  {
   "cell_type": "markdown",
   "metadata": {},
   "source": [
    "We see 37 main peaks organized in 14 clusters.\n",
    "Now let us try to make sense of these clusters by observing then in the Julich atlas space."
   ]
  },
  {
   "cell_type": "markdown",
   "metadata": {},
   "source": [
    "To fetch the Julich-Brain from EBRAINS we rely on the `siibra` library. So we first need to import it (or install and then import if not already installed)"
   ]
  },
  {
   "cell_type": "code",
   "execution_count": null,
   "metadata": {},
   "outputs": [],
   "source": [
    "try:\n",
    "    import siibra\n",
    "except:\n",
    "    !pip install -U siibra\n",
    "    import siibra\n",
    "print(siibra.__version__)\n",
    "assert siibra.__version__ >= \"0.4a33\""
   ]
  },
  {
   "cell_type": "markdown",
   "metadata": {},
   "source": [
    "Now we can fetch the Julich-Brain parcellation as a labelled map in MNI space "
   ]
  },
  {
   "cell_type": "code",
   "execution_count": null,
   "metadata": {},
   "outputs": [],
   "source": [
    "julich_brain = siibra.parcellations.JULICH_BRAIN_PROBABILISTIC_CYTOARCHITECTONIC_MAPS_V2_9\n",
    "print(julich_brain.description)"
   ]
  },
  {
   "cell_type": "code",
   "execution_count": null,
   "metadata": {},
   "outputs": [],
   "source": [
    "# the original maximum probability map object with split hemispheres\n",
    "julich_mpm = julich_brain.get_map(\n",
    "    space=siibra.spaces.MNI_152_ICBM_2009C_NONLINEAR_ASYMMETRIC,\n",
    "    maptype=siibra.MapType.LABELLED\n",
    ")\n",
    "\n",
    "# single-volume compressed version\n",
    "julich_mpm_compressed = julich_mpm.compress()\n",
    "\n",
    "# load as a nifti image object \n",
    "parcellation_map_niimg = julich_mpm_compressed.fetch()"
   ]
  },
  {
   "cell_type": "markdown",
   "metadata": {},
   "source": [
    "You can access the regions defined in the parcellation with the `regions` attribute"
   ]
  },
  {
   "cell_type": "code",
   "execution_count": null,
   "metadata": {},
   "outputs": [],
   "source": [
    "julich_mpm_compressed.regions"
   ]
  },
  {
   "cell_type": "code",
   "execution_count": null,
   "metadata": {},
   "outputs": [],
   "source": [
    "len(julich_mpm_compressed.regions)"
   ]
  },
  {
   "cell_type": "markdown",
   "metadata": {},
   "source": [
    "We can see that there are **294** regions defined in the parcellation"
   ]
  },
  {
   "cell_type": "markdown",
   "metadata": {},
   "source": [
    "With Nilearn we can visualize the thresholded statistical map on the Julich parcellation map"
   ]
  },
  {
   "cell_type": "code",
   "execution_count": null,
   "metadata": {},
   "outputs": [],
   "source": [
    "from nilearn import plotting\n",
    "\n",
    "plotting.view_img(z_map, bg_img=parcellation_map_niimg, threshold=threshold)"
   ]
  },
  {
   "cell_type": "markdown",
   "metadata": {},
   "source": [
    "Now let's get the coordinate indexes from the peak coordinates of the clusters as defined in the cluster table and\n",
    "use these indexes to get the labels from the parcellation that are associated with the peak coordinates."
   ]
  },
  {
   "cell_type": "code",
   "execution_count": null,
   "metadata": {},
   "outputs": [],
   "source": [
    "import numpy as np \n",
    "from nilearn.image import coord_transform\n",
    "\n",
    "labels = []\n",
    "for x, y, z in zip(table[\"X\"], table[\"Y\"], table[\"Z\"]):\n",
    "    # get index of coord using inverse affine\n",
    "    coord_idx = coord_transform(x, y, z, np.linalg.inv(parcellation_map_niimg.affine))\n",
    "    coord_idx = tuple(int(c) for c in coord_idx)\n",
    "    labels.append(parcellation_map_niimg.get_fdata()[coord_idx])"
   ]
  },
  {
   "cell_type": "markdown",
   "metadata": {},
   "source": [
    "Finally, we can map the labels back to the atlas to get the region names. Note that there are activations that fall outside the regions defined by the atlas. These will be returned as None in the mapping."
   ]
  },
  {
   "cell_type": "code",
   "execution_count": null,
   "metadata": {},
   "outputs": [],
   "source": [
    "region_names = []\n",
    "for label_ in labels:\n",
    "    region_names.append(julich_mpm_compressed.get_region(int(label_)))"
   ]
  },
  {
   "cell_type": "markdown",
   "metadata": {},
   "source": [
    "For easy visualization of the relationship betwen the cluster peak coordinates and regions, we can add the region names to the cluster table as a column and print it"
   ]
  },
  {
   "cell_type": "code",
   "execution_count": null,
   "metadata": {},
   "outputs": [],
   "source": [
    "table[\"Region\"] = region_names\n",
    "table"
   ]
  },
  {
   "cell_type": "code",
   "execution_count": null,
   "metadata": {},
   "outputs": [],
   "source": []
  }
 ],
 "metadata": {
  "kernelspec": {
   "display_name": "Python 3 (ipykernel)",
   "language": "python",
   "name": "python3"
  },
  "language_info": {
   "codemirror_mode": {
    "name": "ipython",
    "version": 3
   },
   "file_extension": ".py",
   "mimetype": "text/x-python",
   "name": "python",
   "nbconvert_exporter": "python",
   "pygments_lexer": "ipython3",
   "version": "3.9.15"
  }
 },
 "nbformat": 4,
 "nbformat_minor": 2
}
